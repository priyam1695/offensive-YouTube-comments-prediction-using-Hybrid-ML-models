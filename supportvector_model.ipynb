{
 "cells": [
  {
   "cell_type": "code",
   "execution_count": 26,
   "metadata": {
    "_cell_guid": "4640f2bd-c229-42a0-b180-e266d6958029",
    "_uuid": "5a8550ea-097d-403c-91c1-3c3b5244d194"
   },
   "outputs": [
    {
     "name": "stdout",
     "output_type": "stream",
     "text": [
      "['finaldata']\n"
     ]
    }
   ],
   "source": [
    "\n",
    "import numpy as np # linear algebra\n",
    "import pandas as pd # data processing, CSV file I/O (e.g. pd.read_csv)\n",
    "\n",
    "from sklearn.model_selection import train_test_split\n",
    "from keras.preprocessing.sequence import pad_sequences\n",
    "from keras.preprocessing.text import Tokenizer\n",
    "from sklearn.model_selection import KFold\n",
    "from sklearn.model_selection import cross_val_score\n",
    "from sklearn.feature_extraction.text import CountVectorizer,TfidfVectorizer\n",
    "from sklearn.metrics import classification_report, confusion_matrix\n",
    "\n",
    "from sklearn import svm\n",
    "from sklearn.metrics import accuracy_score\n",
    "import os\n",
    "import os\n",
    "print(os.listdir(\"../input/\"))\n",
    "\n",
    "# Any results you write to the current directory are saved as output."
   ]
  },
  {
   "cell_type": "code",
   "execution_count": 27,
   "metadata": {
    "_cell_guid": "dc2d0fab-c59a-4c93-ad61-d30b1b6a9929",
    "_uuid": "c16df588-b323-4902-bf21-d53eb3520920"
   },
   "outputs": [],
   "source": [
    "data = pd.read_csv('../input/finaldata/YouTube_Dadvar_2014.csv')"
   ]
  },
  {
   "cell_type": "code",
   "execution_count": 28,
   "metadata": {
    "_cell_guid": "dad535a7-3333-40e0-b027-4c77e5798f74",
    "_uuid": "9ae3ad68-a588-4a36-859d-049b6a0cda55"
   },
   "outputs": [
    {
     "data": {
      "text/html": [
       "<div>\n",
       "<style scoped>\n",
       "    .dataframe tbody tr th:only-of-type {\n",
       "        vertical-align: middle;\n",
       "    }\n",
       "\n",
       "    .dataframe tbody tr th {\n",
       "        vertical-align: top;\n",
       "    }\n",
       "\n",
       "    .dataframe thead th {\n",
       "        text-align: right;\n",
       "    }\n",
       "</style>\n",
       "<table border=\"1\" class=\"dataframe\">\n",
       "  <thead>\n",
       "    <tr style=\"text-align: right;\">\n",
       "      <th></th>\n",
       "      <th>UserIndex</th>\n",
       "      <th>Comments</th>\n",
       "      <th>Number of Comments</th>\n",
       "      <th>Number of Subscribers</th>\n",
       "      <th>Membership Duration</th>\n",
       "      <th>Number of Uploads</th>\n",
       "      <th>Profanity in UserID</th>\n",
       "      <th>Age</th>\n",
       "      <th>Class</th>\n",
       "      <th>Unnamed: 9</th>\n",
       "      <th>...</th>\n",
       "      <th>Unnamed: 28</th>\n",
       "      <th>Unnamed: 29</th>\n",
       "      <th>Unnamed: 30</th>\n",
       "      <th>Unnamed: 31</th>\n",
       "      <th>Unnamed: 32</th>\n",
       "      <th>Unnamed: 33</th>\n",
       "      <th>Unnamed: 34</th>\n",
       "      <th>Unnamed: 35</th>\n",
       "      <th>Unnamed: 36</th>\n",
       "      <th>Unnamed: 37</th>\n",
       "    </tr>\n",
       "  </thead>\n",
       "  <tbody>\n",
       "    <tr>\n",
       "      <th>0</th>\n",
       "      <td>X1</td>\n",
       "      <td>Does N.e.bodyelse Hear her Crazy ass Screamin ...</td>\n",
       "      <td>10</td>\n",
       "      <td>1</td>\n",
       "      <td>3</td>\n",
       "      <td>3</td>\n",
       "      <td>0</td>\n",
       "      <td>15</td>\n",
       "      <td>0</td>\n",
       "      <td>NaN</td>\n",
       "      <td>...</td>\n",
       "      <td>NaN</td>\n",
       "      <td>NaN</td>\n",
       "      <td>NaN</td>\n",
       "      <td>NaN</td>\n",
       "      <td>NaN</td>\n",
       "      <td>NaN</td>\n",
       "      <td>NaN</td>\n",
       "      <td>NaN</td>\n",
       "      <td>NaN</td>\n",
       "      <td>NaN</td>\n",
       "    </tr>\n",
       "    <tr>\n",
       "      <th>1</th>\n",
       "      <td>X2</td>\n",
       "      <td>There are so many things that are incorrect wi...</td>\n",
       "      <td>3</td>\n",
       "      <td>0</td>\n",
       "      <td>6</td>\n",
       "      <td>5</td>\n",
       "      <td>0</td>\n",
       "      <td>31</td>\n",
       "      <td>0</td>\n",
       "      <td>NaN</td>\n",
       "      <td>...</td>\n",
       "      <td>NaN</td>\n",
       "      <td>NaN</td>\n",
       "      <td>NaN</td>\n",
       "      <td>NaN</td>\n",
       "      <td>NaN</td>\n",
       "      <td>NaN</td>\n",
       "      <td>NaN</td>\n",
       "      <td>NaN</td>\n",
       "      <td>NaN</td>\n",
       "      <td>NaN</td>\n",
       "    </tr>\n",
       "    <tr>\n",
       "      <th>2</th>\n",
       "      <td>X3</td>\n",
       "      <td>3:26 hahah my boyfriend showed this song to me...</td>\n",
       "      <td>7</td>\n",
       "      <td>0</td>\n",
       "      <td>3</td>\n",
       "      <td>5</td>\n",
       "      <td>0</td>\n",
       "      <td>43</td>\n",
       "      <td>1</td>\n",
       "      <td>NaN</td>\n",
       "      <td>...</td>\n",
       "      <td>NaN</td>\n",
       "      <td>NaN</td>\n",
       "      <td>NaN</td>\n",
       "      <td>NaN</td>\n",
       "      <td>NaN</td>\n",
       "      <td>NaN</td>\n",
       "      <td>NaN</td>\n",
       "      <td>NaN</td>\n",
       "      <td>NaN</td>\n",
       "      <td>NaN</td>\n",
       "    </tr>\n",
       "    <tr>\n",
       "      <th>3</th>\n",
       "      <td>X2218</td>\n",
       "      <td>dick beyonce fuck y a ass hole you are truely ...</td>\n",
       "      <td>34</td>\n",
       "      <td>0</td>\n",
       "      <td>3</td>\n",
       "      <td>5</td>\n",
       "      <td>0</td>\n",
       "      <td>44</td>\n",
       "      <td>1</td>\n",
       "      <td>NaN</td>\n",
       "      <td>...</td>\n",
       "      <td>NaN</td>\n",
       "      <td>NaN</td>\n",
       "      <td>NaN</td>\n",
       "      <td>NaN</td>\n",
       "      <td>NaN</td>\n",
       "      <td>NaN</td>\n",
       "      <td>NaN</td>\n",
       "      <td>NaN</td>\n",
       "      <td>NaN</td>\n",
       "      <td>NaN</td>\n",
       "    </tr>\n",
       "    <tr>\n",
       "      <th>4</th>\n",
       "      <td>X5</td>\n",
       "      <td>DongHaeTaemin and Kai ;A; luhansehun and bacon...</td>\n",
       "      <td>11</td>\n",
       "      <td>173</td>\n",
       "      <td>5</td>\n",
       "      <td>5</td>\n",
       "      <td>0</td>\n",
       "      <td>21</td>\n",
       "      <td>0</td>\n",
       "      <td>NaN</td>\n",
       "      <td>...</td>\n",
       "      <td>NaN</td>\n",
       "      <td>NaN</td>\n",
       "      <td>NaN</td>\n",
       "      <td>NaN</td>\n",
       "      <td>NaN</td>\n",
       "      <td>NaN</td>\n",
       "      <td>NaN</td>\n",
       "      <td>NaN</td>\n",
       "      <td>NaN</td>\n",
       "      <td>NaN</td>\n",
       "    </tr>\n",
       "  </tbody>\n",
       "</table>\n",
       "<p>5 rows × 38 columns</p>\n",
       "</div>"
      ],
      "text/plain": [
       "  UserIndex                                           Comments  \\\n",
       "0        X1  Does N.e.bodyelse Hear her Crazy ass Screamin ...   \n",
       "1        X2  There are so many things that are incorrect wi...   \n",
       "2        X3  3:26 hahah my boyfriend showed this song to me...   \n",
       "3     X2218  dick beyonce fuck y a ass hole you are truely ...   \n",
       "4        X5  DongHaeTaemin and Kai ;A; luhansehun and bacon...   \n",
       "\n",
       "   Number of Comments  Number of Subscribers  Membership Duration  \\\n",
       "0                  10                      1                    3   \n",
       "1                   3                      0                    6   \n",
       "2                   7                      0                    3   \n",
       "3                  34                      0                    3   \n",
       "4                  11                    173                    5   \n",
       "\n",
       "   Number of Uploads  Profanity in UserID  Age  Class  Unnamed: 9  ...  \\\n",
       "0                  3                    0   15      0         NaN  ...   \n",
       "1                  5                    0   31      0         NaN  ...   \n",
       "2                  5                    0   43      1         NaN  ...   \n",
       "3                  5                    0   44      1         NaN  ...   \n",
       "4                  5                    0   21      0         NaN  ...   \n",
       "\n",
       "   Unnamed: 28  Unnamed: 29  Unnamed: 30  Unnamed: 31  Unnamed: 32  \\\n",
       "0          NaN          NaN          NaN          NaN          NaN   \n",
       "1          NaN          NaN          NaN          NaN          NaN   \n",
       "2          NaN          NaN          NaN          NaN          NaN   \n",
       "3          NaN          NaN          NaN          NaN          NaN   \n",
       "4          NaN          NaN          NaN          NaN          NaN   \n",
       "\n",
       "   Unnamed: 33  Unnamed: 34  Unnamed: 35  Unnamed: 36  Unnamed: 37  \n",
       "0          NaN          NaN          NaN          NaN          NaN  \n",
       "1          NaN          NaN          NaN          NaN          NaN  \n",
       "2          NaN          NaN          NaN          NaN          NaN  \n",
       "3          NaN          NaN          NaN          NaN          NaN  \n",
       "4          NaN          NaN          NaN          NaN          NaN  \n",
       "\n",
       "[5 rows x 38 columns]"
      ]
     },
     "execution_count": 28,
     "metadata": {},
     "output_type": "execute_result"
    }
   ],
   "source": [
    "data.head()"
   ]
  },
  {
   "cell_type": "code",
   "execution_count": 29,
   "metadata": {
    "_cell_guid": "079ed963-a712-436a-9848-1da1832d71b0",
    "_uuid": "52364acd-c989-469c-a39d-be61ba89a97a"
   },
   "outputs": [
    {
     "data": {
      "text/plain": [
       "(3464, 38)"
      ]
     },
     "execution_count": 29,
     "metadata": {},
     "output_type": "execute_result"
    }
   ],
   "source": [
    "data.shape"
   ]
  },
  {
   "cell_type": "code",
   "execution_count": 30,
   "metadata": {
    "_cell_guid": "8bc19bb0-5214-4089-ae08-aabd0438197d",
    "_uuid": "108950d8-dabe-49a6-8ae8-0842dcbf1f36"
   },
   "outputs": [
    {
     "data": {
      "text/plain": [
       "2"
      ]
     },
     "execution_count": 30,
     "metadata": {},
     "output_type": "execute_result"
    }
   ],
   "source": [
    "data.ndim"
   ]
  },
  {
   "cell_type": "code",
   "execution_count": 31,
   "metadata": {
    "_cell_guid": "c0b19271-ec99-4aa5-8d87-151c76580e85",
    "_uuid": "bd417589-8cd4-4f4d-a842-adbef00b01a4"
   },
   "outputs": [
    {
     "data": {
      "text/plain": [
       "(3464, 9)"
      ]
     },
     "execution_count": 31,
     "metadata": {},
     "output_type": "execute_result"
    }
   ],
   "source": [
    "data.drop(data.columns[data.columns.str.contains('unnamed',case = False)],axis = 1, inplace = True)\n",
    "data.shape"
   ]
  },
  {
   "cell_type": "code",
   "execution_count": 32,
   "metadata": {
    "_cell_guid": "564fb2c8-8c50-4845-8302-bf894ca6f2f4",
    "_uuid": "aebf4a5a-c219-4fc3-a298-c8ea7502669f"
   },
   "outputs": [
    {
     "data": {
      "text/plain": [
       "UserIndex                object\n",
       "Comments                 object\n",
       "Number of Comments        int64\n",
       "Number of Subscribers     int64\n",
       "Membership Duration       int64\n",
       "Number of Uploads         int64\n",
       "Profanity in UserID       int64\n",
       "Age                       int64\n",
       "Class                     int64\n",
       "dtype: object"
      ]
     },
     "execution_count": 32,
     "metadata": {},
     "output_type": "execute_result"
    }
   ],
   "source": [
    "data.dtypes"
   ]
  },
  {
   "cell_type": "code",
   "execution_count": 33,
   "metadata": {
    "_cell_guid": "b9f26868-d446-4446-a469-e94ff8467f46",
    "_uuid": "f8a8e671-982b-48cf-84c4-68bbde4ef65e"
   },
   "outputs": [
    {
     "data": {
      "text/plain": [
       "UserIndex                False\n",
       "Comments                 False\n",
       "Number of Comments       False\n",
       "Number of Subscribers    False\n",
       "Membership Duration      False\n",
       "Number of Uploads        False\n",
       "Profanity in UserID      False\n",
       "Age                      False\n",
       "Class                    False\n",
       "dtype: bool"
      ]
     },
     "execution_count": 33,
     "metadata": {},
     "output_type": "execute_result"
    }
   ],
   "source": [
    "data.isnull().any()"
   ]
  },
  {
   "cell_type": "code",
   "execution_count": 34,
   "metadata": {
    "_cell_guid": "6e4c6880-6dc9-4932-a2b1-18bc78d71633",
    "_uuid": "27390bdd-c240-4b42-bddf-2bf6f0505ef1"
   },
   "outputs": [
    {
     "data": {
      "text/plain": [
       "Index(['UserIndex', 'Comments', 'Number of Comments', 'Number of Subscribers',\n",
       "       'Membership Duration', 'Number of Uploads', 'Profanity in UserID',\n",
       "       'Age', 'Class'],\n",
       "      dtype='object')"
      ]
     },
     "execution_count": 34,
     "metadata": {},
     "output_type": "execute_result"
    }
   ],
   "source": [
    "data.columns"
   ]
  },
  {
   "cell_type": "code",
   "execution_count": 35,
   "metadata": {
    "_cell_guid": "d4482c90-38ba-424e-83ff-4905c4bcb153",
    "_uuid": "250d539f-1e99-4982-a2b5-19cf978ee541"
   },
   "outputs": [
    {
     "data": {
      "text/html": [
       "<div>\n",
       "<style scoped>\n",
       "    .dataframe tbody tr th:only-of-type {\n",
       "        vertical-align: middle;\n",
       "    }\n",
       "\n",
       "    .dataframe tbody tr th {\n",
       "        vertical-align: top;\n",
       "    }\n",
       "\n",
       "    .dataframe thead th {\n",
       "        text-align: right;\n",
       "    }\n",
       "</style>\n",
       "<table border=\"1\" class=\"dataframe\">\n",
       "  <thead>\n",
       "    <tr style=\"text-align: right;\">\n",
       "      <th></th>\n",
       "      <th>Number of Comments</th>\n",
       "      <th>Number of Subscribers</th>\n",
       "      <th>Membership Duration</th>\n",
       "      <th>Number of Uploads</th>\n",
       "      <th>Profanity in UserID</th>\n",
       "      <th>Age</th>\n",
       "      <th>Class</th>\n",
       "    </tr>\n",
       "  </thead>\n",
       "  <tbody>\n",
       "    <tr>\n",
       "      <th>count</th>\n",
       "      <td>3464.000000</td>\n",
       "      <td>3464.000000</td>\n",
       "      <td>3464.000000</td>\n",
       "      <td>3464.000000</td>\n",
       "      <td>3464.000000</td>\n",
       "      <td>3464.000000</td>\n",
       "      <td>3464.00000</td>\n",
       "    </tr>\n",
       "    <tr>\n",
       "      <th>mean</th>\n",
       "      <td>15.452367</td>\n",
       "      <td>304.318995</td>\n",
       "      <td>3.714781</td>\n",
       "      <td>10.288395</td>\n",
       "      <td>0.113164</td>\n",
       "      <td>24.879042</td>\n",
       "      <td>0.12067</td>\n",
       "    </tr>\n",
       "    <tr>\n",
       "      <th>std</th>\n",
       "      <td>10.862517</td>\n",
       "      <td>15520.532319</td>\n",
       "      <td>1.392837</td>\n",
       "      <td>28.646525</td>\n",
       "      <td>0.316839</td>\n",
       "      <td>13.286361</td>\n",
       "      <td>0.32579</td>\n",
       "    </tr>\n",
       "    <tr>\n",
       "      <th>min</th>\n",
       "      <td>1.000000</td>\n",
       "      <td>0.000000</td>\n",
       "      <td>2.000000</td>\n",
       "      <td>1.000000</td>\n",
       "      <td>0.000000</td>\n",
       "      <td>13.000000</td>\n",
       "      <td>0.00000</td>\n",
       "    </tr>\n",
       "    <tr>\n",
       "      <th>25%</th>\n",
       "      <td>6.000000</td>\n",
       "      <td>0.000000</td>\n",
       "      <td>3.000000</td>\n",
       "      <td>5.000000</td>\n",
       "      <td>0.000000</td>\n",
       "      <td>18.000000</td>\n",
       "      <td>0.00000</td>\n",
       "    </tr>\n",
       "    <tr>\n",
       "      <th>50%</th>\n",
       "      <td>14.000000</td>\n",
       "      <td>2.000000</td>\n",
       "      <td>3.000000</td>\n",
       "      <td>5.000000</td>\n",
       "      <td>0.000000</td>\n",
       "      <td>21.000000</td>\n",
       "      <td>0.00000</td>\n",
       "    </tr>\n",
       "    <tr>\n",
       "      <th>75%</th>\n",
       "      <td>23.000000</td>\n",
       "      <td>7.000000</td>\n",
       "      <td>4.000000</td>\n",
       "      <td>5.000000</td>\n",
       "      <td>0.000000</td>\n",
       "      <td>27.000000</td>\n",
       "      <td>0.00000</td>\n",
       "    </tr>\n",
       "    <tr>\n",
       "      <th>max</th>\n",
       "      <td>50.000000</td>\n",
       "      <td>912377.000000</td>\n",
       "      <td>9.000000</td>\n",
       "      <td>820.000000</td>\n",
       "      <td>1.000000</td>\n",
       "      <td>112.000000</td>\n",
       "      <td>1.00000</td>\n",
       "    </tr>\n",
       "  </tbody>\n",
       "</table>\n",
       "</div>"
      ],
      "text/plain": [
       "       Number of Comments  Number of Subscribers  Membership Duration  \\\n",
       "count         3464.000000            3464.000000          3464.000000   \n",
       "mean            15.452367             304.318995             3.714781   \n",
       "std             10.862517           15520.532319             1.392837   \n",
       "min              1.000000               0.000000             2.000000   \n",
       "25%              6.000000               0.000000             3.000000   \n",
       "50%             14.000000               2.000000             3.000000   \n",
       "75%             23.000000               7.000000             4.000000   \n",
       "max             50.000000          912377.000000             9.000000   \n",
       "\n",
       "       Number of Uploads  Profanity in UserID          Age       Class  \n",
       "count        3464.000000          3464.000000  3464.000000  3464.00000  \n",
       "mean           10.288395             0.113164    24.879042     0.12067  \n",
       "std            28.646525             0.316839    13.286361     0.32579  \n",
       "min             1.000000             0.000000    13.000000     0.00000  \n",
       "25%             5.000000             0.000000    18.000000     0.00000  \n",
       "50%             5.000000             0.000000    21.000000     0.00000  \n",
       "75%             5.000000             0.000000    27.000000     0.00000  \n",
       "max           820.000000             1.000000   112.000000     1.00000  "
      ]
     },
     "execution_count": 35,
     "metadata": {},
     "output_type": "execute_result"
    }
   ],
   "source": [
    "data_dupli = data.drop_duplicates()\n",
    "data=data_dupli\n",
    "data.describe()"
   ]
  },
  {
   "cell_type": "code",
   "execution_count": 36,
   "metadata": {
    "_cell_guid": "62ab1588-a2c1-46a2-9ddd-9a7418a4f28b",
    "_uuid": "da4e01ef-d29f-428b-ab2d-d12f7117a162"
   },
   "outputs": [],
   "source": [
    "from sklearn.preprocessing import LabelEncoder\n",
    "data['Class']=data['Class'].astype(str)\n",
    "le = LabelEncoder()\n",
    "data['Class'] = le.fit_transform(data['Class'])"
   ]
  },
  {
   "cell_type": "code",
   "execution_count": 37,
   "metadata": {
    "_cell_guid": "59dc5b12-6f3d-44b1-9439-082d4d0f7eaa",
    "_uuid": "774cdbdd-3701-4eaa-973e-a0e6fc95e9a7"
   },
   "outputs": [
    {
     "data": {
      "text/plain": [
       "<matplotlib.axes._subplots.AxesSubplot at 0x7fd144f66400>"
      ]
     },
     "execution_count": 37,
     "metadata": {},
     "output_type": "execute_result"
    },
    {
     "data": {
      "image/png": "[encoded data removed]",
      "text/plain": [
       "<Figure size 432x288 with 1 Axes>"
      ]
     },
     "metadata": {
      "needs_background": "light"
     },
     "output_type": "display_data"
    }
   ],
   "source": [
    "data['Class'].value_counts().plot(kind='barh')"
   ]
  },
  {
   "cell_type": "code",
   "execution_count": 38,
   "metadata": {
    "_cell_guid": "f9e56d1e-1adf-4efb-be79-585a8357f4ca",
    "_uuid": "571a4234-46f5-455b-9735-08ff1dfc087b"
   },
   "outputs": [
    {
     "data": {
      "text/html": [
       "<div>\n",
       "<style scoped>\n",
       "    .dataframe tbody tr th:only-of-type {\n",
       "        vertical-align: middle;\n",
       "    }\n",
       "\n",
       "    .dataframe tbody tr th {\n",
       "        vertical-align: top;\n",
       "    }\n",
       "\n",
       "    .dataframe thead th {\n",
       "        text-align: right;\n",
       "    }\n",
       "</style>\n",
       "<table border=\"1\" class=\"dataframe\">\n",
       "  <thead>\n",
       "    <tr style=\"text-align: right;\">\n",
       "      <th></th>\n",
       "      <th>Comments</th>\n",
       "      <th>Class</th>\n",
       "    </tr>\n",
       "  </thead>\n",
       "  <tbody>\n",
       "    <tr>\n",
       "      <th>0</th>\n",
       "      <td>do nebodyels hear crazi as screamin hoe every...</td>\n",
       "      <td>0</td>\n",
       "    </tr>\n",
       "    <tr>\n",
       "      <th>1</th>\n",
       "      <td>there mani thing incorrect comment unbeliev g...</td>\n",
       "      <td>0</td>\n",
       "    </tr>\n",
       "    <tr>\n",
       "      <th>2</th>\n",
       "      <td>hahah boyfriend show song me tooo be seizur o...</td>\n",
       "      <td>1</td>\n",
       "    </tr>\n",
       "    <tr>\n",
       "      <th>3</th>\n",
       "      <td>dick beyonc fuck as hole trueli dog bitch pha...</td>\n",
       "      <td>1</td>\n",
       "    </tr>\n",
       "    <tr>\n",
       "      <th>4</th>\n",
       "      <td>donghaetaemin kai a luhansehun bacon xd taemi...</td>\n",
       "      <td>0</td>\n",
       "    </tr>\n",
       "  </tbody>\n",
       "</table>\n",
       "</div>"
      ],
      "text/plain": [
       "                                            Comments  Class\n",
       "0   do nebodyels hear crazi as screamin hoe every...      0\n",
       "1   there mani thing incorrect comment unbeliev g...      0\n",
       "2   hahah boyfriend show song me tooo be seizur o...      1\n",
       "3   dick beyonc fuck as hole trueli dog bitch pha...      1\n",
       "4   donghaetaemin kai a luhansehun bacon xd taemi...      0"
      ]
     },
     "execution_count": 38,
     "metadata": {},
     "output_type": "execute_result"
    }
   ],
   "source": [
    "import kernelprocess\n",
    "\n",
    "df = kernelprocess.processing(data)\n",
    "df.head()"
   ]
  },
  {
   "cell_type": "code",
   "execution_count": 39,
   "metadata": {},
   "outputs": [],
   "source": [
    "from sklearn.utils import shuffle\n",
    "file = shuffle(df, random_state=3)\n",
    "Y = pd.DataFrame(file['Class'])\n",
    "X = pd.DataFrame(file['Comments'])"
   ]
  },
  {
   "cell_type": "code",
   "execution_count": 40,
   "metadata": {},
   "outputs": [],
   "source": [
    "from sklearn.model_selection import KFold\n",
    "from sklearn.model_selection import cross_val_score\n",
    "cv = KFold(n_splits=4, random_state=42)"
   ]
  },
  {
   "cell_type": "code",
   "execution_count": 41,
   "metadata": {},
   "outputs": [],
   "source": [
    "tfidf = TfidfVectorizer(ngram_range=(1,2)).fit_transform(X['Comments'].values)\n",
    "y=Y['Class'].values\n",
    "\n",
    "def Baseline(y, cv, tfidf):\n",
    "    #SVM with tf-idf\n",
    "    for train, test in cv.split(tfidf):  \n",
    "        \n",
    "        Xtrain, Xtest = tfidf[train], tfidf[test]\n",
    "        Ytrain, Ytest = y[train], y[test]\n",
    "        #ramdomOverSample\n",
    "        from imblearn.over_sampling import RandomOverSampler\n",
    "        ros = RandomOverSampler()\n",
    "        x_ros, y_ros = ros.fit_sample(Xtrain, Ytrain)\n",
    "        \n",
    "        SVM = svm.SVC(C=1.0, kernel='linear')\n",
    "        SVM.fit(x_ros, y_ros)\n",
    "        \n",
    "        predict_SVM = SVM.predict(Xtest)\n",
    "    print(\"-----RandomOverSampling-----\")\n",
    "    print(classification_report(Ytest, predict_SVM))\n",
    "    return (x_ros,y_ros,Ytest, SVM, predict_SVM)\n",
    "    "
   ]
  },
  {
   "cell_type": "code",
   "execution_count": 42,
   "metadata": {},
   "outputs": [
    {
     "name": "stdout",
     "output_type": "stream",
     "text": [
      "-----RandomOverSampling-----\n",
      "              precision    recall  f1-score   support\n",
      "\n",
      "           0       0.88      1.00      0.94       760\n",
      "           1       0.57      0.04      0.07       106\n",
      "\n",
      "    accuracy                           0.88       866\n",
      "   macro avg       0.73      0.52      0.50       866\n",
      "weighted avg       0.84      0.88      0.83       866\n",
      "\n",
      "SVM Accuracy Score ->  99.38772917100411\n",
      "[[757   3]\n",
      " [102   4]]\n"
     ]
    }
   ],
   "source": [
    "x_ros,y_ros,Ytest, SVM, predict_SVM = Baseline(y, cv,tfidf)\n",
    "scoreSVM = cross_val_score(SVM, x_ros, y_ros, cv=4, scoring='accuracy')\n",
    "print(\"SVM Accuracy Score -> \",np.mean(scoreSVM)*100)\n",
    "print(confusion_matrix(Ytest,predict_SVM))"
   ]
  },
  {
   "cell_type": "code",
   "execution_count": 43,
   "metadata": {},
   "outputs": [],
   "source": [
    "\n",
    "def Baseline(y, cv, tfidf):\n",
    "    #SVM with tf-idf\n",
    "    for train, test in cv.split(tfidf):  \n",
    "        #print(\"TRAIN:\", train, \"Test:\", test)\n",
    "        X_train, X_test = tfidf[train], tfidf[test]\n",
    "        y_train, y_test = y[train], y[test]\n",
    "        #smote\n",
    "        from imblearn.over_sampling import SMOTE\n",
    "        sm = SMOTE(random_state=2)\n",
    "        X_train_res, y_train_res = sm.fit_sample(X_train, y_train)\n",
    "        \n",
    "        SVM = svm.SVC(C=1.0, kernel='linear')\n",
    "        SVM.fit(X_train_res,y_train_res)\n",
    "        \n",
    "        predict_SVM = SVM.predict(X_test)\n",
    "    print(\"-----SMOTE-----\")\n",
    "    print(classification_report(y_test, predict_SVM))\n",
    "    return (X_train_res,y_train_res,y_test, SVM, predict_SVM)\n",
    "    "
   ]
  },
  {
   "cell_type": "code",
   "execution_count": 44,
   "metadata": {},
   "outputs": [
    {
     "name": "stdout",
     "output_type": "stream",
     "text": [
      "-----SMOTE-----\n",
      "              precision    recall  f1-score   support\n",
      "\n",
      "           0       0.88      0.99      0.93       760\n",
      "           1       0.40      0.04      0.07       106\n",
      "\n",
      "    accuracy                           0.88       866\n",
      "   macro avg       0.64      0.51      0.50       866\n",
      "weighted avg       0.82      0.88      0.83       866\n",
      "\n",
      "SVM Accuracy Score ->  95.88755159026613\n",
      "[[754   6]\n",
      " [102   4]]\n"
     ]
    }
   ],
   "source": [
    "X_train_res,y_train_res,y_test, SVM, predict_SVM = Baseline(y, cv,tfidf)\n",
    "scoreSVM = cross_val_score(SVM, X_train_res, y_train_res, cv=4, scoring='accuracy')\n",
    "print(\"SVM Accuracy Score -> \",np.mean(scoreSVM)*100)\n",
    "print(confusion_matrix(y_test,predict_SVM))"
   ]
  },
  {
   "cell_type": "code",
   "execution_count": 45,
   "metadata": {},
   "outputs": [],
   "source": [
    "\n",
    "def Baseline(y, cv, tfidf):\n",
    "    #SVM with tf-idf\n",
    "    for train, test in cv.split(tfidf):  \n",
    "        \n",
    "        Xtrain, Xtest = tfidf[train], tfidf[test]\n",
    "        Ytrain, Ytest = y[train], y[test]\n",
    "        #ramdomUnderSample\n",
    "        from imblearn.under_sampling import RandomUnderSampler\n",
    "\n",
    "        rus = RandomUnderSampler()\n",
    "        x_rus, y_rus = rus.fit_sample(Xtrain, Ytrain)\n",
    "        \n",
    "        SVM = svm.SVC(C=1.0, kernel='linear')\n",
    "        SVM.fit(x_rus, y_rus)\n",
    "        \n",
    "        predict_SVM = SVM.predict(Xtest)\n",
    "    print(\"-----RandomUnderSampling-----\")\n",
    "    print(classification_report(Ytest, predict_SVM))\n",
    "    return (x_rus,y_rus,Ytest, SVM, predict_SVM)\n",
    "    "
   ]
  },
  {
   "cell_type": "code",
   "execution_count": 46,
   "metadata": {},
   "outputs": [
    {
     "name": "stdout",
     "output_type": "stream",
     "text": [
      "-----RandomUnderSampling-----\n",
      "              precision    recall  f1-score   support\n",
      "\n",
      "           0       0.92      0.73      0.82       760\n",
      "           1       0.23      0.56      0.32       106\n",
      "\n",
      "    accuracy                           0.71       866\n",
      "   macro avg       0.57      0.64      0.57       866\n",
      "weighted avg       0.84      0.71      0.76       866\n",
      "\n",
      "SVM Accuracy Score ->  64.58333333333334\n",
      "[[557 203]\n",
      " [ 47  59]]\n"
     ]
    }
   ],
   "source": [
    "x_rus,y_rus,Ytest, SVM, predict_SVM = Baseline(y, cv,tfidf)\n",
    "scoreSVM = cross_val_score(SVM, x_rus, y_rus, cv=4, scoring='accuracy')\n",
    "print(\"SVM Accuracy Score -> \",np.mean(scoreSVM)*100)\n",
    "print(confusion_matrix(Ytest,predict_SVM))"
   ]
  },
  {
   "cell_type": "code",
   "execution_count": 50,
   "metadata": {},
   "outputs": [],
   "source": [
    "from sklearn.model_selection import StratifiedKFold\n",
    "cv = StratifiedKFold(n_splits=4, random_state=42)"
   ]
  },
  {
   "cell_type": "code",
   "execution_count": 51,
   "metadata": {},
   "outputs": [],
   "source": [
    "def Baseline(y, cv, tfidf):\n",
    "    #SVM with tf-idf\n",
    "    for train, test in cv.split(tfidf,y):  \n",
    "        \n",
    "        Xtrain, Xtest = tfidf[train], tfidf[test]\n",
    "        Ytrain, Ytest = y[train], y[test]\n",
    "        \n",
    "        SVM = svm.SVC(C=1.0, kernel='linear')\n",
    "        SVM.fit(Xtrain, Ytrain)\n",
    "        \n",
    "        predict_SVM = SVM.predict(Xtest)\n",
    "    print(\"-----StratifiedKFold-----\")\n",
    "    print(classification_report(Ytest, predict_SVM))\n",
    "    return (Xtrain, Ytrain,Ytest, SVM, predict_SVM)\n",
    "    "
   ]
  },
  {
   "cell_type": "code",
   "execution_count": 52,
   "metadata": {},
   "outputs": [
    {
     "name": "stdout",
     "output_type": "stream",
     "text": [
      "-----StratifiedKFold-----\n",
      "              precision    recall  f1-score   support\n",
      "\n",
      "           0       0.88      1.00      0.94       761\n",
      "           1       0.00      0.00      0.00       104\n",
      "\n",
      "    accuracy                           0.88       865\n",
      "   macro avg       0.44      0.50      0.47       865\n",
      "weighted avg       0.77      0.88      0.82       865\n",
      "\n"
     ]
    },
    {
     "name": "stderr",
     "output_type": "stream",
     "text": [
      "/opt/conda/lib/python3.6/site-packages/sklearn/metrics/classification.py:1437: UndefinedMetricWarning: Precision and F-score are ill-defined and being set to 0.0 in labels with no predicted samples.\n",
      "  'precision', 'predicted', average, warn_for)\n"
     ]
    },
    {
     "name": "stdout",
     "output_type": "stream",
     "text": [
      "SVM Accuracy Score ->  87.9184993064162\n",
      "[[761   0]\n",
      " [104   0]]\n"
     ]
    }
   ],
   "source": [
    "Xtrain, Ytrain,Ytest, SVM, predict_SVM = Baseline(y, cv,tfidf)\n",
    "scoreSVM = cross_val_score(SVM,Xtrain, Ytrain, cv=4, scoring='accuracy')\n",
    "print(\"SVM Accuracy Score -> \",np.mean(scoreSVM)*100)\n",
    "print(confusion_matrix(Ytest,predict_SVM))"
   ]
  }
 ],
 "metadata": {
  "kernelspec": {
   "display_name": "Python 3",
   "language": "python",
   "name": "python3"
  },
  "language_info": {
   "codemirror_mode": {
    "name": "ipython",
    "version": 3
   },
   "file_extension": ".py",
   "mimetype": "text/x-python",
   "name": "python",
   "nbconvert_exporter": "python",
   "pygments_lexer": "ipython3",
   "version": "3.7.3"
  }
 },
 "nbformat": 4,
 "nbformat_minor": 1
}
